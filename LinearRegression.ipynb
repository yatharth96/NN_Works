{
 "cells": [
  {
   "cell_type": "code",
   "execution_count": 1,
   "metadata": {
    "collapsed": true
   },
   "outputs": [],
   "source": [
    "import tensorflow as tf\n",
    "import matplotlib.pyplot as plt\n",
    "import numpy as np\n",
    "%matplotlib inline\n"
   ]
  },
  {
   "cell_type": "code",
   "execution_count": 2,
   "metadata": {
    "collapsed": true
   },
   "outputs": [],
   "source": [
    "# Parameters\n",
    "LR = 0.01\n",
    "epochs = 1000"
   ]
  },
  {
   "cell_type": "code",
   "execution_count": 3,
   "metadata": {
    "collapsed": false
   },
   "outputs": [
    {
     "name": "stdout",
     "output_type": "stream",
     "text": [
      "[  3.3     4.4     5.5     6.71    6.93    4.168   9.779   6.182   7.59\n",
      "   2.167   7.042  10.791   5.313   7.997   5.654   9.27    3.1  ]\n",
      "[ 1.7    2.76   2.09   3.19   1.694  1.573  3.366  2.596  2.53   1.221\n",
      "  2.827  3.465  1.65   2.904  2.42   2.94   1.3  ]\n",
      "17\n",
      "(17,)\n"
     ]
    }
   ],
   "source": [
    "train_X = np.array([3.3,4.4,5.5,6.71,6.93,4.168,9.779,6.182,7.59,2.167,\n",
    "                         7.042,10.791,5.313,7.997,5.654,9.27,3.1])\n",
    "print(train_X)\n",
    "\n",
    "train_Y = np.array([1.7,2.76,2.09,3.19,1.694,1.573,3.366,2.596,2.53,1.221,\n",
    "                         2.827,3.465,1.65,2.904,2.42,2.94,1.3])\n",
    "\n",
    "print(train_Y)\n",
    "\n",
    "n = len(train_X)\n",
    "print(n)\n",
    "print(np.shape(train_X))"
   ]
  },
  {
   "cell_type": "code",
   "execution_count": 4,
   "metadata": {
    "collapsed": false
   },
   "outputs": [
    {
     "name": "stdout",
     "output_type": "stream",
     "text": [
      "Tensor(\"Placeholder:0\", dtype=float32)\n",
      "<tf.Variable 'Variable:0' shape=(17,) dtype=float32_ref>\n",
      "<tf.Variable 'Variable_1:0' shape=(17,) dtype=float32_ref>\n"
     ]
    }
   ],
   "source": [
    "X = tf.placeholder(\"float\")\n",
    "Y = tf.placeholder(\"float\")\n",
    "print(X)\n",
    "W = (tf.Variable(tf.random_normal([n])))\n",
    "B = tf.Variable(tf.random_normal([n]))\n",
    "print(W)\n",
    "print(B)"
   ]
  },
  {
   "cell_type": "code",
   "execution_count": 5,
   "metadata": {
    "collapsed": false
   },
   "outputs": [],
   "source": [
    "pred = tf.add(tf.multiply(X,W),B)"
   ]
  },
  {
   "cell_type": "code",
   "execution_count": 6,
   "metadata": {
    "collapsed": true
   },
   "outputs": [],
   "source": [
    "cost = tf.reduce_sum(tf.pow((pred - Y),2))/(2*n)\n",
    "\n",
    "optimizer = tf.train.GradientDescentOptimizer(LR).minimize(cost)\n",
    "\n",
    "init = tf.global_variables_initializer()"
   ]
  },
  {
   "cell_type": "code",
   "execution_count": 7,
   "metadata": {
    "collapsed": false,
    "scrolled": true
   },
   "outputs": [
    {
     "name": "stdout",
     "output_type": "stream",
     "text": [
      "Epoch: 0 Cost: 8.42841\n",
      "Epoch: 50 Cost: 0.149206\n",
      "Epoch: 100 Cost: 0.140076\n",
      "Epoch: 150 Cost: 0.132047\n",
      "Epoch: 200 Cost: 0.124989\n",
      "Epoch: 250 Cost: 0.118787\n",
      "Epoch: 300 Cost: 0.11334\n",
      "Epoch: 350 Cost: 0.108559\n",
      "Epoch: 400 Cost: 0.104365\n",
      "Epoch: 450 Cost: 0.100688\n",
      "Epoch: 500 Cost: 0.0974655\n",
      "Epoch: 550 Cost: 0.0946442\n",
      "Epoch: 600 Cost: 0.0921757\n",
      "Epoch: 650 Cost: 0.0900178\n",
      "Epoch: 700 Cost: 0.0881329\n",
      "Epoch: 750 Cost: 0.0864884\n",
      "Epoch: 800 Cost: 0.085055\n",
      "Epoch: 850 Cost: 0.083807\n",
      "Epoch: 900 Cost: 0.0827219\n",
      "Epoch: 950 Cost: 0.0817799\n",
      "Training Cost: 0.0809783 W = 0.292492 B = 0.49286\n"
     ]
    },
    {
     "data": {
      "image/png": "[encoded data removed]",
      "text/plain": [
       "<matplotlib.figure.Figure at 0x7f22e80a99b0>"
      ]
     },
     "metadata": {},
     "output_type": "display_data"
    }
   ],
   "source": [
    "with tf.Session() as sess:\n",
    "    sess.run(init)\n",
    "    \n",
    "    for epoch in range(epochs):\n",
    "        avg_cost = 0\n",
    "        for (x,y) in zip(train_X,train_Y):\n",
    "            sess.run(optimizer, feed_dict =  {X :x,Y:y})\n",
    "        \n",
    "        if epoch % 50 == 0:\n",
    "            c = sess.run(cost,feed_dict = {X:train_X,Y:train_Y})\n",
    "            print(\"Epoch:\",epoch,\"Cost:\",c)\n",
    "\n",
    "    print(\"Training Cost:\",sess.run(cost,feed_dict = {X : train_X,Y : train_Y}),\"W =\",sess.run(W[-1]),\"B =\",sess.run(B[-1]))\n",
    "    \n",
    "    plt.plot(train_X,train_Y,'ro')\n",
    "    plt.plot(train_X, train_X * sess.run(W[-1]) + sess.run(B[-1]))"
   ]
  }
 ],
 "metadata": {
  "kernelspec": {
   "display_name": "Python 3",
   "language": "python",
   "name": "python3"
  },
  "language_info": {
   "codemirror_mode": {
    "name": "ipython",
    "version": 3
   },
   "file_extension": ".py",
   "mimetype": "text/x-python",
   "name": "python",
   "nbconvert_exporter": "python",
   "pygments_lexer": "ipython3",
   "version": "3.6.0"
  }
 },
 "nbformat": 4,
 "nbformat_minor": 2
}
