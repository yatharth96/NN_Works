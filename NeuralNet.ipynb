{
 "cells": [
  {
   "cell_type": "code",
   "execution_count": 1,
   "metadata": {
    "collapsed": false
   },
   "outputs": [
    {
     "name": "stdout",
     "output_type": "stream",
     "text": [
      "Extracting MNIST_data/train-images-idx3-ubyte.gz\n",
      "Extracting MNIST_data/train-labels-idx1-ubyte.gz\n",
      "Extracting MNIST_data/t10k-images-idx3-ubyte.gz\n",
      "Extracting MNIST_data/t10k-labels-idx1-ubyte.gz\n"
     ]
    }
   ],
   "source": [
    "import tensorflow as tf\n",
    "from tensorflow.examples.tutorials.mnist import input_data\n",
    "mnist = input_data.read_data_sets(\"MNIST_data/\",one_hot = True)"
   ]
  },
  {
   "cell_type": "code",
   "execution_count": 2,
   "metadata": {
    "collapsed": true
   },
   "outputs": [],
   "source": [
    "learning_rate = 0.001\n",
    "epochs = 5\n",
    "batch_size = 100\n",
    "\n",
    "nodes_hl1 = 256\n",
    "nodes_hl2 = 256\n",
    "input_nodes = 784 #28*28\n",
    "n_classes = 10 # classes 0-9\n",
    "\n",
    "x = tf.placeholder(\"float\",[None,input_nodes])\n",
    "y = tf.placeholder(\"float\",[None,n_classes])\n",
    "                   "
   ]
  },
  {
   "cell_type": "code",
   "execution_count": 3,
   "metadata": {
    "collapsed": false
   },
   "outputs": [],
   "source": [
    "def multilayer_perceptron(x,weights,bias):\n",
    "    layer1 = tf.add(tf.matmul(x,weights[\"h1\"]),bias[\"b1\"])\n",
    "    layer1 = tf.nn.relu(layer1)\n",
    "    \n",
    "    layer2 = tf.add(tf.matmul(layer1,weights[\"h2\"]),bias[\"b2\"])\n",
    "    layer2 = tf.nn.relu(layer2)\n",
    "    \n",
    "    out_layer = tf.add(tf.matmul(layer2,weights[\"o\"]),bias[\"o\"])\n",
    "    return out_layer\n"
   ]
  },
  {
   "cell_type": "code",
   "execution_count": 4,
   "metadata": {
    "collapsed": false
   },
   "outputs": [],
   "source": [
    "weights = {\n",
    "        \"h1\" : tf.Variable(tf.random_normal([input_nodes,nodes_hl1])),\n",
    "        \"h2\" : tf.Variable(tf.random_normal([nodes_hl1,nodes_hl2])),\n",
    "        \"o\" : tf.Variable(tf.random_normal([nodes_hl2,n_classes]))\n",
    "        }\n",
    "    \n",
    "bias = {\n",
    "        \"b1\" : tf.Variable(tf.random_normal([nodes_hl1])),\n",
    "        \"b2\" : tf.Variable(tf.random_normal([nodes_hl2])),\n",
    "        \"o\" : tf.Variable(tf.random_normal([n_classes]))\n",
    "        }\n",
    "    \n",
    "pred = multilayer_perceptron(x,weights,bias)\n",
    "\n",
    "cost = tf.reduce_mean(tf.nn.softmax_cross_entropy_with_logits(logits=pred,labels = y))\n",
    "optimizer = tf.train.AdamOptimizer(learning_rate=learning_rate).minimize(cost)\n",
    "\n",
    "init = tf.global_variables_initializer()"
   ]
  },
  {
   "cell_type": "code",
   "execution_count": 5,
   "metadata": {
    "collapsed": false
   },
   "outputs": [
    {
     "name": "stdout",
     "output_type": "stream",
     "text": [
      "Epoch 0 Average Cost =  199.626666398\n",
      "Epoch 1 Average Cost =  43.3105851468\n",
      "Epoch 2 Average Cost =  27.3288248842\n",
      "Epoch 3 Average Cost =  19.0110013058\n",
      "Epoch 4 Average Cost =  13.657078818\n",
      "Optimization Finished!\n",
      "Accuracy: 0.9288\n"
     ]
    }
   ],
   "source": [
    "with tf.Session() as sess:\n",
    "    sess.run(init)\n",
    "    \n",
    "    for epoch in range(epochs):\n",
    "        avg_cost = 0\n",
    "        total_batch = int(mnist.train.num_examples/batch_size)\n",
    "        for i in range(total_batch):\n",
    "            x_batch,y_batch = mnist.train.next_batch(batch_size)\n",
    "            temp,c = sess.run([optimizer,cost], feed_dict={x:x_batch,y:y_batch})\n",
    "\n",
    "            avg_cost += c/total_batch\n",
    "            \n",
    "        print(\"Epoch\",epoch,\"Average Cost = \",avg_cost)\n",
    "            \n",
    "    print(\"Optimization Finished!\")\n",
    "\n",
    "    true_predictions = tf.equal(tf.arg_max(pred,1),tf.arg_max(y,1))\n",
    "    \n",
    "    accuracy = tf.reduce_mean(tf.cast(true_predictions,\"float\"))\n",
    "    print(\"Accuracy:\",accuracy.eval({x:mnist.test.images,y:mnist.test.labels}))\n",
    "    "
   ]
  }
 ],
 "metadata": {
  "kernelspec": {
   "display_name": "Python 3",
   "language": "python",
   "name": "python3"
  },
  "language_info": {
   "codemirror_mode": {
    "name": "ipython",
    "version": 3
   },
   "file_extension": ".py",
   "mimetype": "text/x-python",
   "name": "python",
   "nbconvert_exporter": "python",
   "pygments_lexer": "ipython3",
   "version": "3.6.0"
  }
 },
 "nbformat": 4,
 "nbformat_minor": 2
}
